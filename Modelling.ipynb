{
 "cells": [
  {
   "cell_type": "markdown",
   "metadata": {
    "id": "qfRsRzEqSGog"
   },
   "source": [
    "### Exploratory Data Analysis"
   ]
  },
  {
   "cell_type": "code",
   "execution_count": 1,
   "metadata": {
    "id": "Kas7CPgBSGot"
   },
   "outputs": [],
   "source": [
    "import pandas as pd\n",
    "import numpy as np\n",
    "import seaborn as sns\n",
    "import matplotlib.pyplot as plt\n",
    "import matplotlib as mpl\n",
    "import warnings\n",
    "import nltk\n",
    "from sklearn.preprocessing import StandardScaler"
   ]
  },
  {
   "cell_type": "markdown",
   "metadata": {
    "id": "-kWtPx6WSGov"
   },
   "source": [
    "Load Data"
   ]
  },
  {
   "cell_type": "code",
   "execution_count": 2,
   "metadata": {
    "id": "ZSitJzc7SGow"
   },
   "outputs": [],
   "source": [
    "df = pd.read_csv(\"Car_Reviews_Database.csv\", delimiter=\";\", index_col=0, encoding='latin1')"
   ]
  },
  {
   "cell_type": "code",
   "execution_count": 3,
   "metadata": {
    "id": "Zac1xSkfZqmO"
   },
   "outputs": [],
   "source": [
    "df = df.loc[:, ~df.columns.str.contains('^Unnamed')]"
   ]
  },
  {
   "cell_type": "code",
   "execution_count": 4,
   "metadata": {
    "colab": {
     "base_uri": "https://localhost:8080/",
     "height": 225
    },
    "id": "42RrQc4ESGow",
    "outputId": "80b00ff1-f604-4b59-e0f4-6c8e433a2811"
   },
   "outputs": [
    {
     "data": {
      "text/html": [
       "<div>\n",
       "<style scoped>\n",
       "    .dataframe tbody tr th:only-of-type {\n",
       "        vertical-align: middle;\n",
       "    }\n",
       "\n",
       "    .dataframe tbody tr th {\n",
       "        vertical-align: top;\n",
       "    }\n",
       "\n",
       "    .dataframe thead th {\n",
       "        text-align: right;\n",
       "    }\n",
       "</style>\n",
       "<table border=\"1\" class=\"dataframe\">\n",
       "  <thead>\n",
       "    <tr style=\"text-align: right;\">\n",
       "      <th></th>\n",
       "      <th>Model</th>\n",
       "      <th>Review</th>\n",
       "    </tr>\n",
       "    <tr>\n",
       "      <th>Year</th>\n",
       "      <th></th>\n",
       "      <th></th>\n",
       "    </tr>\n",
       "  </thead>\n",
       "  <tbody>\n",
       "    <tr>\n",
       "      <th>2009</th>\n",
       "      <td>Honda</td>\n",
       "      <td>Although arguably the first-generation Insight...</td>\n",
       "    </tr>\n",
       "    <tr>\n",
       "      <th>2009</th>\n",
       "      <td>Honda</td>\n",
       "      <td>2009 Honda Accord EX-L 4  : This car is very c...</td>\n",
       "    </tr>\n",
       "    <tr>\n",
       "      <th>2010</th>\n",
       "      <td>Honda</td>\n",
       "      <td>I have owed and driven Honda products for 20 y...</td>\n",
       "    </tr>\n",
       "    <tr>\n",
       "      <th>2010</th>\n",
       "      <td>Honda</td>\n",
       "      <td>Honda Accord Euro L : The seats are average bu...</td>\n",
       "    </tr>\n",
       "    <tr>\n",
       "      <th>2011</th>\n",
       "      <td>Honda</td>\n",
       "      <td>Honda HR-V: Continuous variable transmission ...</td>\n",
       "    </tr>\n",
       "  </tbody>\n",
       "</table>\n",
       "</div>"
      ],
      "text/plain": [
       "     Model                                              Review\n",
       "Year                                                          \n",
       "2009  Honda  Although arguably the first-generation Insight...\n",
       "2009  Honda  2009 Honda Accord EX-L 4  : This car is very c...\n",
       "2010  Honda  I have owed and driven Honda products for 20 y...\n",
       "2010  Honda  Honda Accord Euro L : The seats are average bu...\n",
       "2011  Honda   Honda HR-V: Continuous variable transmission ..."
      ]
     },
     "execution_count": 4,
     "metadata": {},
     "output_type": "execute_result"
    }
   ],
   "source": [
    "df.head()"
   ]
  },
  {
   "cell_type": "code",
   "execution_count": 5,
   "metadata": {
    "colab": {
     "base_uri": "https://localhost:8080/"
    },
    "id": "4YJZALyUSGoz",
    "outputId": "5bf56f47-a284-407f-e6e0-271b226194fc"
   },
   "outputs": [
    {
     "data": {
      "text/plain": [
       "<bound method NDFrame.describe of                                                    Model   \\\n",
       "Year                                                        \n",
       "2009                                                Honda   \n",
       "2009                                                Honda   \n",
       "2010                                                Honda   \n",
       "2010                                                Honda   \n",
       "2011                                                Honda   \n",
       "...                                                   ...   \n",
       "NaN                                                   NaN   \n",
       "NaN                                                   NaN   \n",
       "NaN                                                   NaN   \n",
       "NaN                                                   NaN   \n",
       ";;; it's by far one of the most reliable cars I...    NaN   \n",
       "\n",
       "                                                                                               Review  \n",
       "Year                                                                                                   \n",
       "2009                                                Although arguably the first-generation Insight...  \n",
       "2009                                                2009 Honda Accord EX-L 4  : This car is very c...  \n",
       "2010                                                I have owed and driven Honda products for 20 y...  \n",
       "2010                                                Honda Accord Euro L : The seats are average bu...  \n",
       "2011                                                 Honda HR-V: Continuous variable transmission ...  \n",
       "...                                                                                               ...  \n",
       "NaN                                                                                               NaN  \n",
       "NaN                                                                                               NaN  \n",
       "NaN                                                                                               NaN  \n",
       "NaN                                                                                               NaN  \n",
       ";;; it's by far one of the most reliable cars I...                                                NaN  \n",
       "\n",
       "[404 rows x 2 columns]>"
      ]
     },
     "execution_count": 5,
     "metadata": {},
     "output_type": "execute_result"
    }
   ],
   "source": [
    "df.describe"
   ]
  },
  {
   "cell_type": "markdown",
   "metadata": {
    "id": "Z7hrvUb2SGo0"
   },
   "source": [
    "Jumlah nilai yang null"
   ]
  },
  {
   "cell_type": "code",
   "execution_count": 6,
   "metadata": {
    "colab": {
     "base_uri": "https://localhost:8080/",
     "height": 106
    },
    "id": "IChYa6poSGo1",
    "outputId": "35a28f6c-8379-42bf-f40a-22b195254173"
   },
   "outputs": [
    {
     "data": {
      "text/html": [
       "<div>\n",
       "<style scoped>\n",
       "    .dataframe tbody tr th:only-of-type {\n",
       "        vertical-align: middle;\n",
       "    }\n",
       "\n",
       "    .dataframe tbody tr th {\n",
       "        vertical-align: top;\n",
       "    }\n",
       "\n",
       "    .dataframe thead th {\n",
       "        text-align: right;\n",
       "    }\n",
       "</style>\n",
       "<table border=\"1\" class=\"dataframe\">\n",
       "  <thead>\n",
       "    <tr style=\"text-align: right;\">\n",
       "      <th></th>\n",
       "      <th>Total</th>\n",
       "      <th>Missing Percent</th>\n",
       "    </tr>\n",
       "  </thead>\n",
       "  <tbody>\n",
       "    <tr>\n",
       "      <th>Review</th>\n",
       "      <td>193</td>\n",
       "      <td>47.772277</td>\n",
       "    </tr>\n",
       "    <tr>\n",
       "      <th>Model</th>\n",
       "      <td>192</td>\n",
       "      <td>47.524752</td>\n",
       "    </tr>\n",
       "  </tbody>\n",
       "</table>\n",
       "</div>"
      ],
      "text/plain": [
       "        Total  Missing Percent\n",
       "Review    193        47.772277\n",
       "Model     192        47.524752"
      ]
     },
     "execution_count": 6,
     "metadata": {},
     "output_type": "execute_result"
    }
   ],
   "source": [
    "total = df.isnull().sum().sort_values(ascending=False)\n",
    "\n",
    "percent = (df.isnull().sum()/df.isnull().count())\\\n",
    ".sort_values(ascending=False)\n",
    "\n",
    "missing_data = pd.concat([total, percent], axis=1, \\\n",
    "                        keys=['Total', 'Missing Percent'])\n",
    "\n",
    "missing_data['Missing Percent'] = \\\n",
    "missing_data['Missing Percent'].apply(lambda x: x * 100)\n",
    "\n",
    "missing_data.loc[missing_data['Missing Percent'] > 10][:10]"
   ]
  },
  {
   "cell_type": "code",
   "execution_count": 7,
   "metadata": {
    "colab": {
     "base_uri": "https://localhost:8080/"
    },
    "id": "jDraPJEvbeod",
    "outputId": "2be31abe-204d-48e0-91f1-9465b64056b8"
   },
   "outputs": [
    {
     "data": {
      "text/plain": [
       "Model     192\n",
       "Review    193\n",
       "dtype: int64"
      ]
     },
     "execution_count": 7,
     "metadata": {},
     "output_type": "execute_result"
    }
   ],
   "source": [
    "df.isnull().sum()"
   ]
  },
  {
   "cell_type": "markdown",
   "metadata": {
    "id": "lEh82kMRb2_h"
   },
   "source": [
    "### Data Cleaning"
   ]
  },
  {
   "cell_type": "code",
   "execution_count": 8,
   "metadata": {
    "id": "qcxCotz-SGo2"
   },
   "outputs": [],
   "source": [
    "dc = pd.read_csv(\"Car_Reviews_Database.csv\", delimiter=\";\", index_col=0, encoding='latin1')\n",
    "dc = df.loc[:, ~df.columns.str.contains('^Unnamed')]"
   ]
  },
  {
   "cell_type": "code",
   "execution_count": 9,
   "metadata": {
    "colab": {
     "base_uri": "https://localhost:8080/"
    },
    "id": "jZPuUaw9SGo2",
    "outputId": "330279b1-7639-4aa4-9329-72f3bc5ac22a"
   },
   "outputs": [
    {
     "name": "stdout",
     "output_type": "stream",
     "text": [
      "(404, 2)\n"
     ]
    }
   ],
   "source": [
    "print(dc.shape)"
   ]
  },
  {
   "cell_type": "markdown",
   "metadata": {
    "id": "CP_KUR0LcEG-"
   },
   "source": [
    "Drop Missing Value"
   ]
  },
  {
   "cell_type": "code",
   "execution_count": 10,
   "metadata": {
    "colab": {
     "base_uri": "https://localhost:8080/"
    },
    "id": "Qc8m-GP0bFsC",
    "outputId": "1d8bb66d-ffe4-40fd-9ec9-ab810f5c3ec6"
   },
   "outputs": [
    {
     "name": "stdout",
     "output_type": "stream",
     "text": [
      "(211, 2)\n"
     ]
    }
   ],
   "source": [
    "dc = dc.dropna()\n",
    "print(dc.shape)"
   ]
  },
  {
   "cell_type": "code",
   "execution_count": 11,
   "metadata": {
    "colab": {
     "base_uri": "https://localhost:8080/",
     "height": 47
    },
    "id": "yp841DjlblSN",
    "outputId": "6dcb3e7f-b00b-41c9-ec78-788035d830fe"
   },
   "outputs": [
    {
     "data": {
      "text/html": [
       "<div>\n",
       "<style scoped>\n",
       "    .dataframe tbody tr th:only-of-type {\n",
       "        vertical-align: middle;\n",
       "    }\n",
       "\n",
       "    .dataframe tbody tr th {\n",
       "        vertical-align: top;\n",
       "    }\n",
       "\n",
       "    .dataframe thead th {\n",
       "        text-align: right;\n",
       "    }\n",
       "</style>\n",
       "<table border=\"1\" class=\"dataframe\">\n",
       "  <thead>\n",
       "    <tr style=\"text-align: right;\">\n",
       "      <th></th>\n",
       "      <th>Total</th>\n",
       "      <th>Missing Percent</th>\n",
       "    </tr>\n",
       "  </thead>\n",
       "  <tbody>\n",
       "  </tbody>\n",
       "</table>\n",
       "</div>"
      ],
      "text/plain": [
       "Empty DataFrame\n",
       "Columns: [Total, Missing Percent]\n",
       "Index: []"
      ]
     },
     "execution_count": 11,
     "metadata": {},
     "output_type": "execute_result"
    }
   ],
   "source": [
    "total = dc.isnull().sum().sort_values(ascending=False)\n",
    "\n",
    "percent = (dc.isnull().sum()/dc.isnull().count())\\\n",
    ".sort_values(ascending=False)\n",
    "\n",
    "missing_data = pd.concat([total, percent], axis=1, \\\n",
    "                        keys=['Total', 'Missing Percent'])\n",
    "\n",
    "missing_data['Missing Percent'] = \\\n",
    "missing_data['Missing Percent'].apply(lambda x: x * 100)\n",
    "\n",
    "missing_data.loc[missing_data['Missing Percent'] > 10][:10]"
   ]
  },
  {
   "cell_type": "code",
   "execution_count": 12,
   "metadata": {
    "colab": {
     "base_uri": "https://localhost:8080/"
    },
    "id": "QKsf1e9YbjYE",
    "outputId": "b5287aca-e25b-43c3-9557-fede7837061b"
   },
   "outputs": [
    {
     "data": {
      "text/plain": [
       "Model     0\n",
       "Review    0\n",
       "dtype: int64"
      ]
     },
     "execution_count": 12,
     "metadata": {},
     "output_type": "execute_result"
    }
   ],
   "source": [
    "dc.isnull().sum()"
   ]
  },
  {
   "cell_type": "code",
   "execution_count": 13,
   "metadata": {
    "colab": {
     "base_uri": "https://localhost:8080/",
     "height": 373
    },
    "id": "0724wkPibtae",
    "outputId": "214ff056-cce9-4148-af5a-4c4848ac27fc"
   },
   "outputs": [
    {
     "data": {
      "text/html": [
       "<div>\n",
       "<style scoped>\n",
       "    .dataframe tbody tr th:only-of-type {\n",
       "        vertical-align: middle;\n",
       "    }\n",
       "\n",
       "    .dataframe tbody tr th {\n",
       "        vertical-align: top;\n",
       "    }\n",
       "\n",
       "    .dataframe thead th {\n",
       "        text-align: right;\n",
       "    }\n",
       "</style>\n",
       "<table border=\"1\" class=\"dataframe\">\n",
       "  <thead>\n",
       "    <tr style=\"text-align: right;\">\n",
       "      <th></th>\n",
       "      <th>Model</th>\n",
       "      <th>Review</th>\n",
       "    </tr>\n",
       "    <tr>\n",
       "      <th>Year</th>\n",
       "      <th></th>\n",
       "      <th></th>\n",
       "    </tr>\n",
       "  </thead>\n",
       "  <tbody>\n",
       "    <tr>\n",
       "      <th>2009</th>\n",
       "      <td>Honda</td>\n",
       "      <td>Although arguably the first-generation Insight...</td>\n",
       "    </tr>\n",
       "    <tr>\n",
       "      <th>2009</th>\n",
       "      <td>Honda</td>\n",
       "      <td>2009 Honda Accord EX-L 4  : This car is very c...</td>\n",
       "    </tr>\n",
       "    <tr>\n",
       "      <th>2010</th>\n",
       "      <td>Honda</td>\n",
       "      <td>I have owed and driven Honda products for 20 y...</td>\n",
       "    </tr>\n",
       "    <tr>\n",
       "      <th>2010</th>\n",
       "      <td>Honda</td>\n",
       "      <td>Honda Accord Euro L : The seats are average bu...</td>\n",
       "    </tr>\n",
       "    <tr>\n",
       "      <th>2011</th>\n",
       "      <td>Honda</td>\n",
       "      <td>Honda HR-V: Continuous variable transmission ...</td>\n",
       "    </tr>\n",
       "    <tr>\n",
       "      <th>2011</th>\n",
       "      <td>Honda</td>\n",
       "      <td>Not much has changed with the historically sec...</td>\n",
       "    </tr>\n",
       "    <tr>\n",
       "      <th>2012</th>\n",
       "      <td>Honda</td>\n",
       "      <td>Honda Ballade 150 1.5: This is the most reliab...</td>\n",
       "    </tr>\n",
       "    <tr>\n",
       "      <th>2012</th>\n",
       "      <td>Honda</td>\n",
       "      <td>Ride quality is top-notch though communication...</td>\n",
       "    </tr>\n",
       "    <tr>\n",
       "      <th>2013</th>\n",
       "      <td>Honda</td>\n",
       "      <td>Honda Jazz Hybrid 1.4 : This is my second Hond...</td>\n",
       "    </tr>\n",
       "    <tr>\n",
       "      <th>2013</th>\n",
       "      <td>Honda</td>\n",
       "      <td>The CR-V's voluminous cargo area quick-folding...</td>\n",
       "    </tr>\n",
       "  </tbody>\n",
       "</table>\n",
       "</div>"
      ],
      "text/plain": [
       "     Model                                              Review\n",
       "Year                                                          \n",
       "2009  Honda  Although arguably the first-generation Insight...\n",
       "2009  Honda  2009 Honda Accord EX-L 4  : This car is very c...\n",
       "2010  Honda  I have owed and driven Honda products for 20 y...\n",
       "2010  Honda  Honda Accord Euro L : The seats are average bu...\n",
       "2011  Honda   Honda HR-V: Continuous variable transmission ...\n",
       "2011  Honda  Not much has changed with the historically sec...\n",
       "2012  Honda  Honda Ballade 150 1.5: This is the most reliab...\n",
       "2012  Honda  Ride quality is top-notch though communication...\n",
       "2013  Honda  Honda Jazz Hybrid 1.4 : This is my second Hond...\n",
       "2013  Honda  The CR-V's voluminous cargo area quick-folding..."
      ]
     },
     "execution_count": 13,
     "metadata": {},
     "output_type": "execute_result"
    }
   ],
   "source": [
    "dc.head(10)"
   ]
  },
  {
   "cell_type": "markdown",
   "metadata": {},
   "source": [
    "## Modelling"
   ]
  },
  {
   "cell_type": "code",
   "execution_count": 14,
   "metadata": {},
   "outputs": [],
   "source": [
    "data_train = dc\n",
    "data_test = dc"
   ]
  },
  {
   "cell_type": "code",
   "execution_count": 15,
   "metadata": {},
   "outputs": [
    {
     "data": {
      "text/html": [
       "<div>\n",
       "<style scoped>\n",
       "    .dataframe tbody tr th:only-of-type {\n",
       "        vertical-align: middle;\n",
       "    }\n",
       "\n",
       "    .dataframe tbody tr th {\n",
       "        vertical-align: top;\n",
       "    }\n",
       "\n",
       "    .dataframe thead th {\n",
       "        text-align: right;\n",
       "    }\n",
       "</style>\n",
       "<table border=\"1\" class=\"dataframe\">\n",
       "  <thead>\n",
       "    <tr style=\"text-align: right;\">\n",
       "      <th></th>\n",
       "      <th>Model</th>\n",
       "      <th>Review</th>\n",
       "    </tr>\n",
       "    <tr>\n",
       "      <th>Year</th>\n",
       "      <th></th>\n",
       "      <th></th>\n",
       "    </tr>\n",
       "  </thead>\n",
       "  <tbody>\n",
       "    <tr>\n",
       "      <th>2009</th>\n",
       "      <td>Honda</td>\n",
       "      <td>Although arguably the first-generation Insight...</td>\n",
       "    </tr>\n",
       "    <tr>\n",
       "      <th>2009</th>\n",
       "      <td>Honda</td>\n",
       "      <td>2009 Honda Accord EX-L 4  : This car is very c...</td>\n",
       "    </tr>\n",
       "    <tr>\n",
       "      <th>2010</th>\n",
       "      <td>Honda</td>\n",
       "      <td>I have owed and driven Honda products for 20 y...</td>\n",
       "    </tr>\n",
       "    <tr>\n",
       "      <th>2010</th>\n",
       "      <td>Honda</td>\n",
       "      <td>Honda Accord Euro L : The seats are average bu...</td>\n",
       "    </tr>\n",
       "    <tr>\n",
       "      <th>2011</th>\n",
       "      <td>Honda</td>\n",
       "      <td>Honda HR-V: Continuous variable transmission ...</td>\n",
       "    </tr>\n",
       "  </tbody>\n",
       "</table>\n",
       "</div>"
      ],
      "text/plain": [
       "     Model                                              Review\n",
       "Year                                                          \n",
       "2009  Honda  Although arguably the first-generation Insight...\n",
       "2009  Honda  2009 Honda Accord EX-L 4  : This car is very c...\n",
       "2010  Honda  I have owed and driven Honda products for 20 y...\n",
       "2010  Honda  Honda Accord Euro L : The seats are average bu...\n",
       "2011  Honda   Honda HR-V: Continuous variable transmission ..."
      ]
     },
     "execution_count": 15,
     "metadata": {},
     "output_type": "execute_result"
    }
   ],
   "source": [
    "data_train.head()"
   ]
  },
  {
   "cell_type": "code",
   "execution_count": 16,
   "metadata": {},
   "outputs": [
    {
     "data": {
      "text/html": [
       "<div>\n",
       "<style scoped>\n",
       "    .dataframe tbody tr th:only-of-type {\n",
       "        vertical-align: middle;\n",
       "    }\n",
       "\n",
       "    .dataframe tbody tr th {\n",
       "        vertical-align: top;\n",
       "    }\n",
       "\n",
       "    .dataframe thead th {\n",
       "        text-align: right;\n",
       "    }\n",
       "</style>\n",
       "<table border=\"1\" class=\"dataframe\">\n",
       "  <thead>\n",
       "    <tr style=\"text-align: right;\">\n",
       "      <th></th>\n",
       "      <th>Model</th>\n",
       "      <th>Review</th>\n",
       "    </tr>\n",
       "    <tr>\n",
       "      <th>Year</th>\n",
       "      <th></th>\n",
       "      <th></th>\n",
       "    </tr>\n",
       "  </thead>\n",
       "  <tbody>\n",
       "    <tr>\n",
       "      <th>2009</th>\n",
       "      <td>Honda</td>\n",
       "      <td>Although arguably the first-generation Insight...</td>\n",
       "    </tr>\n",
       "    <tr>\n",
       "      <th>2009</th>\n",
       "      <td>Honda</td>\n",
       "      <td>2009 Honda Accord EX-L 4  : This car is very c...</td>\n",
       "    </tr>\n",
       "    <tr>\n",
       "      <th>2010</th>\n",
       "      <td>Honda</td>\n",
       "      <td>I have owed and driven Honda products for 20 y...</td>\n",
       "    </tr>\n",
       "    <tr>\n",
       "      <th>2010</th>\n",
       "      <td>Honda</td>\n",
       "      <td>Honda Accord Euro L : The seats are average bu...</td>\n",
       "    </tr>\n",
       "    <tr>\n",
       "      <th>2011</th>\n",
       "      <td>Honda</td>\n",
       "      <td>Honda HR-V: Continuous variable transmission ...</td>\n",
       "    </tr>\n",
       "  </tbody>\n",
       "</table>\n",
       "</div>"
      ],
      "text/plain": [
       "     Model                                              Review\n",
       "Year                                                          \n",
       "2009  Honda  Although arguably the first-generation Insight...\n",
       "2009  Honda  2009 Honda Accord EX-L 4  : This car is very c...\n",
       "2010  Honda  I have owed and driven Honda products for 20 y...\n",
       "2010  Honda  Honda Accord Euro L : The seats are average bu...\n",
       "2011  Honda   Honda HR-V: Continuous variable transmission ..."
      ]
     },
     "execution_count": 16,
     "metadata": {},
     "output_type": "execute_result"
    }
   ],
   "source": [
    "data_test.head()"
   ]
  },
  {
   "cell_type": "code",
   "execution_count": 17,
   "metadata": {},
   "outputs": [],
   "source": [
    "# Case Folding\n",
    "data_train['Review'] = data_train['Review'].str.lower()"
   ]
  },
  {
   "cell_type": "code",
   "execution_count": 18,
   "metadata": {},
   "outputs": [
    {
     "name": "stdout",
     "output_type": "stream",
     "text": [
      "RegexpTokenizer(pattern=Year\n",
      "2009    although arguably the first-generation insight...\n",
      "2009    2009 honda accord ex-l 4  : this car is very c...\n",
      "2010    i have owed and driven honda products for 20 y...\n",
      "2010    honda accord euro l : the seats are average bu...\n",
      "2011     honda hr-v: continuous variable transmission ...\n",
      "                              ...                        \n",
      "2019    honda civic ex: very clever design and very sp...\n",
      "2019    hyundai sonata 2.4: large car and spacious car...\n",
      "2019    if you can deal with (or prefer?) rear-wheel d...\n",
      "2019     ford escape xlt 2.5 : i really didn't want to...\n",
      "2019    the bmw 3 series is known as a driver's car an...\n",
      "Name: Review, Length: 211, dtype: object, gaps=False, discard_empty=True, flags=re.UNICODE|re.MULTILINE|re.DOTALL)\n"
     ]
    }
   ],
   "source": [
    "# Tokenization Train\n",
    "from nltk.tokenize import RegexpTokenizer\n",
    "train_token = RegexpTokenizer(data_train['Review'])\n",
    "print(train_token)"
   ]
  },
  {
   "cell_type": "code",
   "execution_count": 19,
   "metadata": {
    "scrolled": true
   },
   "outputs": [
    {
     "name": "stdout",
     "output_type": "stream",
     "text": [
      "Tokenizing Result : \n",
      "\n",
      "Year\n",
      "2009    [although, arguably, the, firstgeneration, ins...\n",
      "2009    [honda, accord, exl, this, car, is, very, comf...\n",
      "2010    [have, owed, and, driven, honda, products, for...\n",
      "2010    [honda, accord, euro, the, seats, are, average...\n",
      "2011    [honda, hrv, continuous, variable, transmissio...\n",
      "                              ...                        \n",
      "2019    [honda, civic, ex, very, clever, design, and, ...\n",
      "2019    [hyundai, sonata, large, car, and, spacious, c...\n",
      "2019    [if, you, can, deal, with, or, prefer, rearwhe...\n",
      "2019    [ford, escape, xlt, really, did, not, want, to...\n",
      "2019    [the, bmw, series, is, known, as, driver, is, ...\n",
      "Name: Review, Length: 211, dtype: object\n",
      "\n",
      "\n",
      "\n",
      "\n"
     ]
    }
   ],
   "source": [
    "import re, string\n",
    "from nltk.tokenize import word_tokenize\n",
    "\n",
    "def preprocessText(text, remove_stops=False):\n",
    "    \n",
    "    # Remove Everything Between Hard Brackets\n",
    "    text = re.sub(pattern=\"\\[.+?\\]( )?\", repl='', string=text)\n",
    "\n",
    "    # Change \"word+'\" to \"word+ng\"\n",
    "    text = re.sub(pattern=\"n\\\\\\' \", repl='ng ', string=text)\n",
    "\n",
    "    # Remove x4 and (x4)\n",
    "    text = re.sub(pattern=\"(\\()?x\\d+(\\))?\", repl=' ', string=text)\n",
    "\n",
    "    # Fix Apostrophe Issues\n",
    "    text= re.sub(pattern=\"\\\\x91\", repl=\"'\", string=text)\n",
    "    text = re.sub(pattern=\"\\\\x92\", repl=\"'\", string=text)\n",
    "    text= re.sub(pattern=\"<u\\+0092>\", repl=\"'\", string=text)\n",
    "        \n",
    "    # Special Cases\n",
    "    text = re.sub(pattern=\"'til\", repl=\"til\", string=text)\n",
    "    text = re.sub(pattern=\"'til\", repl=\"til\", string=text)\n",
    "    text = re.sub(pattern=\"gon'\", repl=\"gon\", string=text)\n",
    "\n",
    "    # Remove \\n from Beginning\n",
    "    text = re.sub(pattern='^\\n', repl='', string=text)\n",
    "    \n",
    "    # Remove Double Spaces and Beginning with Whitespace\n",
    "    text = re.sub(pattern='( ){2,}', repl=' ', string=text)\n",
    "    text = text.strip()\n",
    "\n",
    "    # Strip , ! ?, : and Remaining \\n from Review\n",
    "    text = ''.join([char.strip(\",!?:\") for char in text])\n",
    "    text = text.replace('\\n', ' ')\n",
    "  \n",
    "\n",
    "    #---------------------- Text Expansion ---------------------------------\n",
    "    \n",
    "    # specific\n",
    "    text = re.sub(r\"won't\", \"will not\", text)\n",
    "    text = re.sub(r\"won\\’t\", \"will not\", text)\n",
    "    text = re.sub(r\"can't\", \"can not\", text)\n",
    "    text = re.sub(r\"can\\’t\", \"can not\", text)\n",
    "    text = re.sub(r\"let's\", \"let us\", text)\n",
    "    text = re.sub(r\"let\\’s\", \"let us\", text)\n",
    "    text = re.sub(r\"ain't\", \"aint\", text)\n",
    "    text = re.sub(r\"ain\\’t\", \"aint\", text)\n",
    "    text = re.sub(r\"wanna\", \"want to\", text)\n",
    "    text = re.sub(r\"gonna\", \"going to\", text)\n",
    "    text = re.sub(r\"gotta\", \"go to\", text)\n",
    "    \n",
    "    # general\n",
    "    text = re.sub(r\"n\\'t\", \" not\", text)\n",
    "    text = re.sub(r\"\\'re\", \" are\", text)\n",
    "    text = re.sub(r\"\\'s\", \" is\", text)\n",
    "    text = re.sub(r\"\\'d\", \" would\", text)\n",
    "    text = re.sub(r\"\\'ll\", \" will\", text)\n",
    "    text = re.sub(r\"\\'t\", \" not\", text)\n",
    "    text = re.sub(r\"\\'ve\", \" have\", text)\n",
    "    text = re.sub(r\"\\'m\", \" am\", text)\n",
    "    text = re.sub(r\"n\\’t\", \" not\", text)\n",
    "    text = re.sub(r\"\\’re\", \" are\", text)\n",
    "    text = re.sub(r\"\\’s\", \" is\", text)\n",
    "    text = re.sub(r\"\\’d\", \" would\", text)\n",
    "    text = re.sub(r\"\\’ll\", \" will\", text)\n",
    "    text = re.sub(r\"\\’t\", \" not\", text)\n",
    "    text = re.sub(r\"\\’ve\", \" have\", text)\n",
    "    text = re.sub(r\"\\’m\", \" am\", text)\n",
    "    text = re.sub(r\"\\â\", \"a\", text)\n",
    "    text = re.sub(r\"sunshineas\", \"sunshine as\", text)\n",
    "    \n",
    "    # Remove Symbols\n",
    "    text = re.sub(r\"[^\\w\\s]\",\"\", text)\n",
    "    \n",
    "    # Remove Single Char\n",
    "    text = re.sub(r\"\\b[a-zA-Z]\\b\",\"\", text)\n",
    "   \n",
    "    #Remove Number\n",
    "    text = re.sub(r\"\\d+\", \"\", text)\n",
    "    \n",
    "    #Remove Duplicate Char\n",
    "    text = re.sub(r\"o+h\", \"oh\", text)\n",
    "    text = re.sub(r\"oh+\", \"\", text)\n",
    "    \n",
    "    # Remove Remaining Punctuation\n",
    "    punc = string.punctuation\n",
    "    text = ''.join([char for char in text if char not in punc])\n",
    "\n",
    "    # Remove Stopwords\n",
    "    if remove_stops:\n",
    "        stops = stopwords.words('english')\n",
    "        data_train['Review'] = ' '.join([word for word in data_train['Review'].split(' ') if word not in stops])\n",
    "    return(text)\n",
    "\n",
    "data_train['Review'] = data_train['Review'].apply(preprocessText)\n",
    "\n",
    "# NLTK word tokenize \n",
    "def word_tokenize_wrapper(text):\n",
    "    return word_tokenize(text)\n",
    "\n",
    "data_train['Review'] = data_train['Review'].apply(word_tokenize_wrapper)\n",
    "\n",
    "print('Tokenizing Result : \\n') \n",
    "print(data_train['Review'])\n",
    "print('\\n\\n\\n')\n"
   ]
  },
  {
   "cell_type": "code",
   "execution_count": 20,
   "metadata": {},
   "outputs": [],
   "source": [
    "# Stopwords Removal\n",
    "from nltk.corpus import stopwords\n",
    "\n",
    "stop = stopwords.words('english')\n",
    "data_train['Review'] = data_train['Review'].apply(lambda x: [item for item in x if item not in stop])"
   ]
  },
  {
   "cell_type": "code",
   "execution_count": 21,
   "metadata": {},
   "outputs": [],
   "source": [
    "# Stemming\n",
    "from nltk.stem.porter import PorterStemmer\n",
    "\n",
    "stemming = PorterStemmer()\n",
    "data_train['Review'] = data_train['Review'].apply(lambda x: [stemming.stem(y) for y in x])"
   ]
  },
  {
   "cell_type": "code",
   "execution_count": 22,
   "metadata": {},
   "outputs": [],
   "source": [
    "# Lemmatization\n",
    "from nltk.stem import WordNetLemmatizer\n",
    "\n",
    "lemmatization = WordNetLemmatizer()\n",
    "data_train['Review'] = data_train['Review'].apply(lambda x: [lemmatization.lemmatize(y) for y in x])"
   ]
  },
  {
   "cell_type": "code",
   "execution_count": 23,
   "metadata": {},
   "outputs": [
    {
     "data": {
      "text/html": [
       "<div>\n",
       "<style scoped>\n",
       "    .dataframe tbody tr th:only-of-type {\n",
       "        vertical-align: middle;\n",
       "    }\n",
       "\n",
       "    .dataframe tbody tr th {\n",
       "        vertical-align: top;\n",
       "    }\n",
       "\n",
       "    .dataframe thead th {\n",
       "        text-align: right;\n",
       "    }\n",
       "</style>\n",
       "<table border=\"1\" class=\"dataframe\">\n",
       "  <thead>\n",
       "    <tr style=\"text-align: right;\">\n",
       "      <th></th>\n",
       "      <th>Model</th>\n",
       "      <th>Review</th>\n",
       "    </tr>\n",
       "    <tr>\n",
       "      <th>Year</th>\n",
       "      <th></th>\n",
       "      <th></th>\n",
       "    </tr>\n",
       "  </thead>\n",
       "  <tbody>\n",
       "    <tr>\n",
       "      <th>2009</th>\n",
       "      <td>Honda</td>\n",
       "      <td>[although, arguabl, firstgener, insight, hybri...</td>\n",
       "    </tr>\n",
       "    <tr>\n",
       "      <th>2009</th>\n",
       "      <td>Honda</td>\n",
       "      <td>[honda, accord, exl, car, comfort, sporti, cyl...</td>\n",
       "    </tr>\n",
       "    <tr>\n",
       "      <th>2010</th>\n",
       "      <td>Honda</td>\n",
       "      <td>[owe, driven, honda, product, year, purchas, v...</td>\n",
       "    </tr>\n",
       "    <tr>\n",
       "      <th>2010</th>\n",
       "      <td>Honda</td>\n",
       "      <td>[honda, accord, euro, seat, averag, littl, rea...</td>\n",
       "    </tr>\n",
       "    <tr>\n",
       "      <th>2011</th>\n",
       "      <td>Honda</td>\n",
       "      <td>[honda, hrv, continu, variabl, transmiss, fail...</td>\n",
       "    </tr>\n",
       "  </tbody>\n",
       "</table>\n",
       "</div>"
      ],
      "text/plain": [
       "     Model                                              Review\n",
       "Year                                                          \n",
       "2009  Honda  [although, arguabl, firstgener, insight, hybri...\n",
       "2009  Honda  [honda, accord, exl, car, comfort, sporti, cyl...\n",
       "2010  Honda  [owe, driven, honda, product, year, purchas, v...\n",
       "2010  Honda  [honda, accord, euro, seat, averag, littl, rea...\n",
       "2011  Honda  [honda, hrv, continu, variabl, transmiss, fail..."
      ]
     },
     "execution_count": 23,
     "metadata": {},
     "output_type": "execute_result"
    }
   ],
   "source": [
    "data_train.head()"
   ]
  },
  {
   "cell_type": "code",
   "execution_count": 24,
   "metadata": {},
   "outputs": [
    {
     "name": "stdout",
     "output_type": "stream",
     "text": [
      "       Model                                              Review\n",
      "Year                                                            \n",
      "2009    Honda  [although, arguabl, firstgener, insight, hybri...\n",
      "2009    Honda  [honda, accord, exl, car, comfort, sporti, cyl...\n",
      "2010    Honda  [owe, driven, honda, product, year, purchas, v...\n",
      "2010    Honda  [honda, accord, euro, seat, averag, littl, rea...\n",
      "2011    Honda  [honda, hrv, continu, variabl, transmiss, fail...\n",
      "...       ...                                                ...\n",
      "2019   Honda   [honda, civic, ex, clever, design, spaciou, ca...\n",
      "2019  Hyundai  [hyundai, sonata, larg, car, spaciou, car, ple...\n",
      "2019  Genesis  [deal, prefer, rearwheel, drive, amaz, vehicl,...\n",
      "2019     Ford  [ford, escap, xlt, realli, want, like, car, pu...\n",
      "2019      BMW  [bmw, seri, known, driver, car, redesign, seri...\n",
      "\n",
      "[211 rows x 2 columns]\n"
     ]
    }
   ],
   "source": [
    "print(data_train)"
   ]
  },
  {
   "cell_type": "code",
   "execution_count": null,
   "metadata": {},
   "outputs": [],
   "source": []
  }
 ],
 "metadata": {
  "colab": {
   "collapsed_sections": [],
   "name": "Data Cleaning.ipynb",
   "provenance": [],
   "toc_visible": true
  },
  "kernelspec": {
   "display_name": "Python 3",
   "language": "python",
   "name": "python3"
  },
  "language_info": {
   "codemirror_mode": {
    "name": "ipython",
    "version": 3
   },
   "file_extension": ".py",
   "mimetype": "text/x-python",
   "name": "python",
   "nbconvert_exporter": "python",
   "pygments_lexer": "ipython3",
   "version": "3.8.3"
  }
 },
 "nbformat": 4,
 "nbformat_minor": 1
}
