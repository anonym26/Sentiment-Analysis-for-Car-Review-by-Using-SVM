{
  "nbformat": 4,
  "nbformat_minor": 0,
  "metadata": {
    "kernelspec": {
      "display_name": "Python 3",
      "language": "python",
      "name": "python3"
    },
    "language_info": {
      "codemirror_mode": {
        "name": "ipython",
        "version": 3
      },
      "file_extension": ".py",
      "mimetype": "text/x-python",
      "name": "python",
      "nbconvert_exporter": "python",
      "pygments_lexer": "ipython3",
      "version": "3.6.5"
    },
    "colab": {
      "name": "Data Cleaning.ipynb",
      "provenance": [],
      "collapsed_sections": [],
      "toc_visible": true
    }
  },
  "cells": [
    {
      "cell_type": "markdown",
      "metadata": {
        "id": "qfRsRzEqSGog"
      },
      "source": [
        "### Exploratory Data Analysis"
      ]
    },
    {
      "cell_type": "code",
      "metadata": {
        "id": "Kas7CPgBSGot"
      },
      "source": [
        "import pandas as pd\n",
        "import numpy as np\n",
        "import seaborn as sns\n",
        "import matplotlib.pyplot as plt\n",
        "import matplotlib as mpl\n",
        "import warnings\n",
        "import nltk\n",
        "from sklearn.preprocessing import StandardScaler"
      ],
      "execution_count": 1,
      "outputs": []
    },
    {
      "cell_type": "markdown",
      "metadata": {
        "id": "-kWtPx6WSGov"
      },
      "source": [
        "Load Data"
      ]
    },
    {
      "cell_type": "code",
      "metadata": {
        "id": "ZSitJzc7SGow"
      },
      "source": [
        "df = pd.read_csv(\"Car_Reviews_Database.csv\", delimiter=\";\", index_col=0, encoding='latin1')"
      ],
      "execution_count": 11,
      "outputs": []
    },
    {
      "cell_type": "code",
      "metadata": {
        "id": "Zac1xSkfZqmO"
      },
      "source": [
        "df = df.loc[:, ~df.columns.str.contains('^Unnamed')]"
      ],
      "execution_count": 12,
      "outputs": []
    },
    {
      "cell_type": "code",
      "metadata": {
        "id": "42RrQc4ESGow",
        "colab": {
          "base_uri": "https://localhost:8080/",
          "height": 225
        },
        "outputId": "80b00ff1-f604-4b59-e0f4-6c8e433a2811"
      },
      "source": [
        "df.head()"
      ],
      "execution_count": 15,
      "outputs": [
        {
          "output_type": "execute_result",
          "data": {
            "text/html": [
              "<div>\n",
              "<style scoped>\n",
              "    .dataframe tbody tr th:only-of-type {\n",
              "        vertical-align: middle;\n",
              "    }\n",
              "\n",
              "    .dataframe tbody tr th {\n",
              "        vertical-align: top;\n",
              "    }\n",
              "\n",
              "    .dataframe thead th {\n",
              "        text-align: right;\n",
              "    }\n",
              "</style>\n",
              "<table border=\"1\" class=\"dataframe\">\n",
              "  <thead>\n",
              "    <tr style=\"text-align: right;\">\n",
              "      <th></th>\n",
              "      <th>Model</th>\n",
              "      <th>Review</th>\n",
              "    </tr>\n",
              "    <tr>\n",
              "      <th>Year</th>\n",
              "      <th></th>\n",
              "      <th></th>\n",
              "    </tr>\n",
              "  </thead>\n",
              "  <tbody>\n",
              "    <tr>\n",
              "      <th>2009</th>\n",
              "      <td>Honda</td>\n",
              "      <td>Although arguably the first-generation Insight...</td>\n",
              "    </tr>\n",
              "    <tr>\n",
              "      <th>2009</th>\n",
              "      <td>Honda</td>\n",
              "      <td>2009 Honda Accord EX-L 4  : This car is very c...</td>\n",
              "    </tr>\n",
              "    <tr>\n",
              "      <th>2010</th>\n",
              "      <td>Honda</td>\n",
              "      <td>I have owed and driven Honda products for 20 y...</td>\n",
              "    </tr>\n",
              "    <tr>\n",
              "      <th>2010</th>\n",
              "      <td>Honda</td>\n",
              "      <td>Honda Accord Euro L : The seats are average bu...</td>\n",
              "    </tr>\n",
              "    <tr>\n",
              "      <th>2011</th>\n",
              "      <td>Honda</td>\n",
              "      <td>Honda HR-V: Continuous variable transmission ...</td>\n",
              "    </tr>\n",
              "  </tbody>\n",
              "</table>\n",
              "</div>"
            ],
            "text/plain": [
              "     Model                                              Review\n",
              "Year                                                          \n",
              "2009  Honda  Although arguably the first-generation Insight...\n",
              "2009  Honda  2009 Honda Accord EX-L 4  : This car is very c...\n",
              "2010  Honda  I have owed and driven Honda products for 20 y...\n",
              "2010  Honda  Honda Accord Euro L : The seats are average bu...\n",
              "2011  Honda   Honda HR-V: Continuous variable transmission ..."
            ]
          },
          "metadata": {
            "tags": []
          },
          "execution_count": 15
        }
      ]
    },
    {
      "cell_type": "code",
      "metadata": {
        "id": "4YJZALyUSGoz",
        "colab": {
          "base_uri": "https://localhost:8080/"
        },
        "outputId": "5bf56f47-a284-407f-e6e0-271b226194fc"
      },
      "source": [
        "df.describe"
      ],
      "execution_count": 16,
      "outputs": [
        {
          "output_type": "execute_result",
          "data": {
            "text/plain": [
              "<bound method NDFrame.describe of                                                    Model                                              Review\n",
              "Year                                                                                                        \n",
              "2009                                                Honda  Although arguably the first-generation Insight...\n",
              "2009                                                Honda  2009 Honda Accord EX-L 4  : This car is very c...\n",
              "2010                                                Honda  I have owed and driven Honda products for 20 y...\n",
              "2010                                                Honda  Honda Accord Euro L : The seats are average bu...\n",
              "2011                                                Honda   Honda HR-V: Continuous variable transmission ...\n",
              "...                                                   ...                                                ...\n",
              "NaN                                                   NaN                                                NaN\n",
              "NaN                                                   NaN                                                NaN\n",
              "NaN                                                   NaN                                                NaN\n",
              "NaN                                                   NaN                                                NaN\n",
              ";;; it's by far one of the most reliable cars I...    NaN                                                NaN\n",
              "\n",
              "[404 rows x 2 columns]>"
            ]
          },
          "metadata": {
            "tags": []
          },
          "execution_count": 16
        }
      ]
    },
    {
      "cell_type": "markdown",
      "metadata": {
        "id": "Z7hrvUb2SGo0"
      },
      "source": [
        "Jumlah nilai yang null"
      ]
    },
    {
      "cell_type": "code",
      "metadata": {
        "id": "IChYa6poSGo1",
        "colab": {
          "base_uri": "https://localhost:8080/",
          "height": 106
        },
        "outputId": "35a28f6c-8379-42bf-f40a-22b195254173"
      },
      "source": [
        "total = df.isnull().sum().sort_values(ascending=False)\n",
        "\n",
        "percent = (df.isnull().sum()/df.isnull().count())\\\n",
        ".sort_values(ascending=False)\n",
        "\n",
        "missing_data = pd.concat([total, percent], axis=1, \\\n",
        "                        keys=['Total', 'Missing Percent'])\n",
        "\n",
        "missing_data['Missing Percent'] = \\\n",
        "missing_data['Missing Percent'].apply(lambda x: x * 100)\n",
        "\n",
        "missing_data.loc[missing_data['Missing Percent'] > 10][:10]"
      ],
      "execution_count": 17,
      "outputs": [
        {
          "output_type": "execute_result",
          "data": {
            "text/html": [
              "<div>\n",
              "<style scoped>\n",
              "    .dataframe tbody tr th:only-of-type {\n",
              "        vertical-align: middle;\n",
              "    }\n",
              "\n",
              "    .dataframe tbody tr th {\n",
              "        vertical-align: top;\n",
              "    }\n",
              "\n",
              "    .dataframe thead th {\n",
              "        text-align: right;\n",
              "    }\n",
              "</style>\n",
              "<table border=\"1\" class=\"dataframe\">\n",
              "  <thead>\n",
              "    <tr style=\"text-align: right;\">\n",
              "      <th></th>\n",
              "      <th>Total</th>\n",
              "      <th>Missing Percent</th>\n",
              "    </tr>\n",
              "  </thead>\n",
              "  <tbody>\n",
              "    <tr>\n",
              "      <th>Review</th>\n",
              "      <td>193</td>\n",
              "      <td>47.772277</td>\n",
              "    </tr>\n",
              "    <tr>\n",
              "      <th>Model</th>\n",
              "      <td>192</td>\n",
              "      <td>47.524752</td>\n",
              "    </tr>\n",
              "  </tbody>\n",
              "</table>\n",
              "</div>"
            ],
            "text/plain": [
              "        Total  Missing Percent\n",
              "Review    193        47.772277\n",
              "Model     192        47.524752"
            ]
          },
          "metadata": {
            "tags": []
          },
          "execution_count": 17
        }
      ]
    },
    {
      "cell_type": "code",
      "metadata": {
        "colab": {
          "base_uri": "https://localhost:8080/"
        },
        "id": "jDraPJEvbeod",
        "outputId": "2be31abe-204d-48e0-91f1-9465b64056b8"
      },
      "source": [
        "dc.isnull().sum()"
      ],
      "execution_count": 27,
      "outputs": [
        {
          "output_type": "execute_result",
          "data": {
            "text/plain": [
              "Model     192\n",
              "Review    193\n",
              "dtype: int64"
            ]
          },
          "metadata": {
            "tags": []
          },
          "execution_count": 27
        }
      ]
    },
    {
      "cell_type": "markdown",
      "metadata": {
        "id": "lEh82kMRb2_h"
      },
      "source": [
        "### Data Cleaning"
      ]
    },
    {
      "cell_type": "code",
      "metadata": {
        "id": "qcxCotz-SGo2"
      },
      "source": [
        "dc = pd.read_csv(\"Car_Reviews_Database.csv\", delimiter=\";\", index_col=0, encoding='latin1')\r\n",
        "dc = df.loc[:, ~df.columns.str.contains('^Unnamed')]"
      ],
      "execution_count": 24,
      "outputs": []
    },
    {
      "cell_type": "code",
      "metadata": {
        "id": "jZPuUaw9SGo2",
        "colab": {
          "base_uri": "https://localhost:8080/"
        },
        "outputId": "330279b1-7639-4aa4-9329-72f3bc5ac22a"
      },
      "source": [
        "print(dc.shape)"
      ],
      "execution_count": 26,
      "outputs": [
        {
          "output_type": "stream",
          "text": [
            "(404, 2)\n"
          ],
          "name": "stdout"
        }
      ]
    },
    {
      "cell_type": "markdown",
      "metadata": {
        "id": "CP_KUR0LcEG-"
      },
      "source": [
        "Drop Missing Value"
      ]
    },
    {
      "cell_type": "code",
      "metadata": {
        "colab": {
          "base_uri": "https://localhost:8080/"
        },
        "id": "Qc8m-GP0bFsC",
        "outputId": "1d8bb66d-ffe4-40fd-9ec9-ab810f5c3ec6"
      },
      "source": [
        "dc = dc.dropna()\r\n",
        "print(dc.shape)"
      ],
      "execution_count": 28,
      "outputs": [
        {
          "output_type": "stream",
          "text": [
            "(211, 2)\n"
          ],
          "name": "stdout"
        }
      ]
    },
    {
      "cell_type": "code",
      "metadata": {
        "colab": {
          "base_uri": "https://localhost:8080/",
          "height": 47
        },
        "id": "yp841DjlblSN",
        "outputId": "6dcb3e7f-b00b-41c9-ec78-788035d830fe"
      },
      "source": [
        "total = dc.isnull().sum().sort_values(ascending=False)\r\n",
        "\r\n",
        "percent = (dc.isnull().sum()/dc.isnull().count())\\\r\n",
        ".sort_values(ascending=False)\r\n",
        "\r\n",
        "missing_data = pd.concat([total, percent], axis=1, \\\r\n",
        "                        keys=['Total', 'Missing Percent'])\r\n",
        "\r\n",
        "missing_data['Missing Percent'] = \\\r\n",
        "missing_data['Missing Percent'].apply(lambda x: x * 100)\r\n",
        "\r\n",
        "missing_data.loc[missing_data['Missing Percent'] > 10][:10]"
      ],
      "execution_count": 31,
      "outputs": [
        {
          "output_type": "execute_result",
          "data": {
            "text/html": [
              "<div>\n",
              "<style scoped>\n",
              "    .dataframe tbody tr th:only-of-type {\n",
              "        vertical-align: middle;\n",
              "    }\n",
              "\n",
              "    .dataframe tbody tr th {\n",
              "        vertical-align: top;\n",
              "    }\n",
              "\n",
              "    .dataframe thead th {\n",
              "        text-align: right;\n",
              "    }\n",
              "</style>\n",
              "<table border=\"1\" class=\"dataframe\">\n",
              "  <thead>\n",
              "    <tr style=\"text-align: right;\">\n",
              "      <th></th>\n",
              "      <th>Total</th>\n",
              "      <th>Missing Percent</th>\n",
              "    </tr>\n",
              "  </thead>\n",
              "  <tbody>\n",
              "  </tbody>\n",
              "</table>\n",
              "</div>"
            ],
            "text/plain": [
              "Empty DataFrame\n",
              "Columns: [Total, Missing Percent]\n",
              "Index: []"
            ]
          },
          "metadata": {
            "tags": []
          },
          "execution_count": 31
        }
      ]
    },
    {
      "cell_type": "code",
      "metadata": {
        "colab": {
          "base_uri": "https://localhost:8080/"
        },
        "id": "QKsf1e9YbjYE",
        "outputId": "b5287aca-e25b-43c3-9557-fede7837061b"
      },
      "source": [
        "dc.isnull().sum()"
      ],
      "execution_count": 29,
      "outputs": [
        {
          "output_type": "execute_result",
          "data": {
            "text/plain": [
              "Model     0\n",
              "Review    0\n",
              "dtype: int64"
            ]
          },
          "metadata": {
            "tags": []
          },
          "execution_count": 29
        }
      ]
    },
    {
      "cell_type": "code",
      "metadata": {
        "id": "0724wkPibtae"
      },
      "source": [
        ""
      ],
      "execution_count": null,
      "outputs": []
    }
  ]
}